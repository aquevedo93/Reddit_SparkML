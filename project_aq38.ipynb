{
 "cells": [
  {
   "cell_type": "markdown",
   "metadata": {},
   "source": [
    "## Big Data Project"
   ]
  },
  {
   "cell_type": "markdown",
   "metadata": {},
   "source": [
    "Andrea Quevedo "
   ]
  },
  {
   "cell_type": "code",
   "execution_count": 1,
   "metadata": {},
   "outputs": [],
   "source": [
    "#Setup\n",
    "import findspark\n",
    "findspark.init()\n",
    "from pyspark.sql import SparkSession\n",
    "spark = SparkSession.builder.appName(\"project\").getOrCreate()\n",
    "from pyspark import SparkContext\n",
    "sc = SparkContext.getOrCreate()\n",
    "\n",
    "#Loading Data and Feature Engineering\n",
    "from pyspark.sql.types import *\n",
    "import json\n",
    "from pyspark.sql import Row\n",
    "import pyspark.sql.functions as F\n",
    "from pyspark.sql.types import TimestampType\n",
    "from datetime import datetime\n",
    "\n",
    "#Exploratory Data Analysis\n",
    "import pandas as pd\n",
    "import seaborn as sns\n",
    "import matplotlib.pyplot as plt\n",
    "\n",
    "#Machine Learning Models\n",
    "from pyspark.ml.feature import OneHotEncoderEstimator, StringIndexer, VectorAssembler, IndexToString\n",
    "from pyspark.ml.classification import LogisticRegression, RandomForestClassifier, GBTClassifier\n",
    "from pyspark.ml.evaluation import BinaryClassificationEvaluator\n",
    "from pyspark.ml import Pipeline, Model"
   ]
  },
  {
   "cell_type": "code",
   "execution_count": 2,
   "metadata": {},
   "outputs": [
    {
     "data": {
      "text/html": [
       "\n",
       "            <div>\n",
       "                <p><b>SparkSession - in-memory</b></p>\n",
       "                \n",
       "        <div>\n",
       "            <p><b>SparkContext</b></p>\n",
       "\n",
       "            <p><a href=\"http://ip-172-31-81-225.ec2.internal:4040\">Spark UI</a></p>\n",
       "\n",
       "            <dl>\n",
       "              <dt>Version</dt>\n",
       "                <dd><code>v2.4.4</code></dd>\n",
       "              <dt>Master</dt>\n",
       "                <dd><code>yarn</code></dd>\n",
       "              <dt>AppName</dt>\n",
       "                <dd><code>project</code></dd>\n",
       "            </dl>\n",
       "        </div>\n",
       "        \n",
       "            </div>\n",
       "        "
      ],
      "text/plain": [
       "<pyspark.sql.session.SparkSession at 0x7fc5505df650>"
      ]
     },
     "execution_count": 2,
     "metadata": {},
     "output_type": "execute_result"
    }
   ],
   "source": [
    "spark"
   ]
  },
  {
   "cell_type": "markdown",
   "metadata": {},
   "source": [
    "### Importing Reddit LZO Data Files"
   ]
  },
  {
   "cell_type": "code",
   "execution_count": 3,
   "metadata": {},
   "outputs": [],
   "source": [
    "#Reading LZO as Hadoop file\n",
    "json_lzo = sc.newAPIHadoopFile(\"s3://bigdatateaching/reddit/lzo/RC_*.lzo\",\n",
    "                               \"com.hadoop.mapreduce.LzoTextInputFormat\",\n",
    "                               \"org.apache.hadoop.io.LongWritable\",\n",
    "                               \"org.apache.hadoop.io.Text\")"
   ]
  },
  {
   "cell_type": "code",
   "execution_count": 4,
   "metadata": {},
   "outputs": [
    {
     "data": {
      "text/plain": [
       "StructType(List(StructField(archived,BooleanType,true),StructField(author,StringType,true),StructField(author_cakeday,BooleanType,true),StructField(author_created_utc,LongType,true),StructField(author_flair_background_color,StringType,true),StructField(author_flair_css_class,StringType,true),StructField(author_flair_richtext,ArrayType(StructType(List(StructField(a,StringType,true),StructField(e,StringType,true),StructField(t,StringType,true),StructField(u,StringType,true))),true),true),StructField(author_flair_template_id,StringType,true),StructField(author_flair_text,StringType,true),StructField(author_flair_text_color,StringType,true),StructField(author_flair_type,StringType,true),StructField(author_fullname,StringType,true),StructField(author_patreon_flair,BooleanType,true),StructField(body,StringType,true),StructField(can_gild,BooleanType,true),StructField(can_mod_post,BooleanType,true),StructField(collapsed,BooleanType,true),StructField(collapsed_reason,StringType,true),StructField(controversiality,LongType,true),StructField(created_utc,LongType,true),StructField(distinguished,StringType,true),StructField(edited,StringType,true),StructField(gilded,LongType,true),StructField(gildings,StructType(List(StructField(gid_1,LongType,true),StructField(gid_2,LongType,true),StructField(gid_3,LongType,true))),true),StructField(id,StringType,true),StructField(is_submitter,BooleanType,true),StructField(link_id,StringType,true),StructField(no_follow,BooleanType,true),StructField(parent_id,StringType,true),StructField(permalink,StringType,true),StructField(removal_reason,StringType,true),StructField(retrieved_on,LongType,true),StructField(score,LongType,true),StructField(send_replies,BooleanType,true),StructField(stickied,BooleanType,true),StructField(subreddit,StringType,true),StructField(subreddit_id,StringType,true),StructField(subreddit_name_prefixed,StringType,true),StructField(subreddit_type,StringType,true)))"
      ]
     },
     "execution_count": 4,
     "metadata": {},
     "output_type": "execute_result"
    }
   ],
   "source": [
    "#Getting the schema from the sample data\n",
    "data= spark.read.json(\"s3://bigdatateaching/reddit/sample-data/1m-line-sample.json\")\n",
    "schema=data.schema.json()\n",
    "\n",
    "new_schema = StructType.fromJson(json.loads(schema))\n",
    "new_schema"
   ]
  },
  {
   "cell_type": "code",
   "execution_count": 5,
   "metadata": {},
   "outputs": [],
   "source": [
    "#Converting the LZO file as a dataframe\n",
    "data = json_lzo.map(lambda x:Row(x[1]))\\\n",
    "    .toDF(['raw'])\\\n",
    "    .select(F.from_json('raw',new_schema).alias('json')).select('json.*')"
   ]
  },
  {
   "cell_type": "markdown",
   "metadata": {},
   "source": [
    "### Initial Data Inspection "
   ]
  },
  {
   "cell_type": "code",
   "execution_count": 6,
   "metadata": {},
   "outputs": [
    {
     "name": "stdout",
     "output_type": "stream",
     "text": [
      "root\n",
      " |-- archived: boolean (nullable = true)\n",
      " |-- author: string (nullable = true)\n",
      " |-- author_cakeday: boolean (nullable = true)\n",
      " |-- author_created_utc: long (nullable = true)\n",
      " |-- author_flair_background_color: string (nullable = true)\n",
      " |-- author_flair_css_class: string (nullable = true)\n",
      " |-- author_flair_richtext: array (nullable = true)\n",
      " |    |-- element: struct (containsNull = true)\n",
      " |    |    |-- a: string (nullable = true)\n",
      " |    |    |-- e: string (nullable = true)\n",
      " |    |    |-- t: string (nullable = true)\n",
      " |    |    |-- u: string (nullable = true)\n",
      " |-- author_flair_template_id: string (nullable = true)\n",
      " |-- author_flair_text: string (nullable = true)\n",
      " |-- author_flair_text_color: string (nullable = true)\n",
      " |-- author_flair_type: string (nullable = true)\n",
      " |-- author_fullname: string (nullable = true)\n",
      " |-- author_patreon_flair: boolean (nullable = true)\n",
      " |-- body: string (nullable = true)\n",
      " |-- can_gild: boolean (nullable = true)\n",
      " |-- can_mod_post: boolean (nullable = true)\n",
      " |-- collapsed: boolean (nullable = true)\n",
      " |-- collapsed_reason: string (nullable = true)\n",
      " |-- controversiality: long (nullable = true)\n",
      " |-- created_utc: long (nullable = true)\n",
      " |-- distinguished: string (nullable = true)\n",
      " |-- edited: string (nullable = true)\n",
      " |-- gilded: long (nullable = true)\n",
      " |-- gildings: struct (nullable = true)\n",
      " |    |-- gid_1: long (nullable = true)\n",
      " |    |-- gid_2: long (nullable = true)\n",
      " |    |-- gid_3: long (nullable = true)\n",
      " |-- id: string (nullable = true)\n",
      " |-- is_submitter: boolean (nullable = true)\n",
      " |-- link_id: string (nullable = true)\n",
      " |-- no_follow: boolean (nullable = true)\n",
      " |-- parent_id: string (nullable = true)\n",
      " |-- permalink: string (nullable = true)\n",
      " |-- removal_reason: string (nullable = true)\n",
      " |-- retrieved_on: long (nullable = true)\n",
      " |-- score: long (nullable = true)\n",
      " |-- send_replies: boolean (nullable = true)\n",
      " |-- stickied: boolean (nullable = true)\n",
      " |-- subreddit: string (nullable = true)\n",
      " |-- subreddit_id: string (nullable = true)\n",
      " |-- subreddit_name_prefixed: string (nullable = true)\n",
      " |-- subreddit_type: string (nullable = true)\n",
      "\n"
     ]
    }
   ],
   "source": [
    "#Checking features and feature types\n",
    "data.printSchema()"
   ]
  },
  {
   "cell_type": "code",
   "execution_count": 7,
   "metadata": {},
   "outputs": [
    {
     "name": "stdout",
     "output_type": "stream",
     "text": [
      "+---------+------+--------------+------------------+-----------------------------+----------------------+---------------------+------------------------+-----------------+-----------------------+-----------------+---------------+--------------------+----+--------+------------+---------+----------------+----------------+-----------+-------------+------+------+--------+---+------------+-------+---------+---------+---------+--------------+------------+-----+------------+--------+---------+------------+-----------------------+--------------+\n",
      "| archived|author|author_cakeday|author_created_utc|author_flair_background_color|author_flair_css_class|author_flair_richtext|author_flair_template_id|author_flair_text|author_flair_text_color|author_flair_type|author_fullname|author_patreon_flair|body|can_gild|can_mod_post|collapsed|collapsed_reason|controversiality|created_utc|distinguished|edited|gilded|gildings| id|is_submitter|link_id|no_follow|parent_id|permalink|removal_reason|retrieved_on|score|send_replies|stickied|subreddit|subreddit_id|subreddit_name_prefixed|subreddit_type|\n",
      "+---------+------+--------------+------------------+-----------------------------+----------------------+---------------------+------------------------+-----------------+-----------------------+-----------------+---------------+--------------------+----+--------+------------+---------+----------------+----------------+-----------+-------------+------+------+--------+---+------------+-------+---------+---------+---------+--------------+------------+-----+------------+--------+---------+------------+-----------------------+--------------+\n",
      "|129352624|     0|     474710486|          42738322|                    323529952|             371349643|             42737313|               414663455|        368524948|              323529952|         42737313|       42737313|            49013039|   0|       0|           0|        0|       469533816|               0|          0|    468689710|     0|     0|       0|  0|           0|      0|        0|        0|        0|     476258225|           0|    0|           0|       0|        0|           0|                      0|             0|\n",
      "+---------+------+--------------+------------------+-----------------------------+----------------------+---------------------+------------------------+-----------------+-----------------------+-----------------+---------------+--------------------+----+--------+------------+---------+----------------+----------------+-----------+-------------+------+------+--------+---+------------+-------+---------+---------+---------+--------------+------------+-----+------------+--------+---------+------------+-----------------------+--------------+\n",
      "\n"
     ]
    }
   ],
   "source": [
    "#Checking for missing values \n",
    "data.select([F.count(F.when(F.isnull(c), c)).alias(c) for c in data.columns]).show()"
   ]
  },
  {
   "cell_type": "markdown",
   "metadata": {},
   "source": [
    "Printing missing values in a more interpretable way"
   ]
  },
  {
   "cell_type": "markdown",
   "metadata": {},
   "source": [
    "\n",
    "| Variable                      | Missing Obs. |\n",
    "|-------------------------------|--------------|\n",
    "| archived                      | 129352624    |\n",
    "| author                        | 0            |\n",
    "| author_cakeday                | 474710486    |\n",
    "| author_created_utc            | 42738322     |\n",
    "| author_flair_background_color | 323529952    |\n",
    "| author_flair_css_class        | 371349643    |\n",
    "| author_flair_richtext         | 42737313     |\n",
    "| author_flair_template_id      | 414663455    |\n",
    "| author_flair_text             | 368524948    |\n",
    "| author_flair_text_color       | 323529952    |\n",
    "| author_flair_type             | 42737313     |\n",
    "| author_fullname               | 42737313     |\n",
    "| author_patreon_flair          | 49013039     |\n",
    "| body                          | 0            |\n",
    "| can_gild                      | 0            |\n",
    "| can_mod_post                  | 0            |\n",
    "| collapsed                     | 0            |\n",
    "| collapsed_reason              | 469533816    |\n",
    "| controversiality              | 0            |\n",
    "| created_utc                   | 0            |\n",
    "| distinguished                 | 468689710    |\n",
    "| edited                        | 0            |\n",
    "| gilded                        | 0            |\n",
    "| gildings                      | 0            |\n",
    "| id                            | 0            |\n",
    "| is_submitter                  | 0            |\n",
    "| link_id                       | 0            |\n",
    "| no_follow                     | 0            |\n",
    "| parent_id                     | 0            |\n",
    "| permalink                     | 0            |\n",
    "| removal_reason                | 476258225    |\n",
    "| retrieved_on                  | 0            |\n",
    "| score                         | 0            |\n",
    "| send_replies                  | 0            |\n",
    "| stickied                      | 0            |\n",
    "| subreddit                     | 0            |\n",
    "| subreddit_id                  | 0            |\n",
    "| subreddit_name_prefixed       | 0            |\n",
    "| subreddit_type                | 0            |"
   ]
  },
  {
   "cell_type": "markdown",
   "metadata": {},
   "source": [
    "### Data Cleaning"
   ]
  },
  {
   "cell_type": "code",
   "execution_count": 8,
   "metadata": {},
   "outputs": [],
   "source": [
    "#List of variables to drop. Variables are being dropped either because they contain a lot of missing values or because \n",
    "#they will not be useful for the analysis later on\n",
    "drop_cols= ['author_cakeday','author_flair_background_color','author_flair_css_class', 'author_flair_richtext','author_flair_template_id', \n",
    "            'author_flair_text', 'author_flair_text_color', 'author_flair_type','author_fullname','author_patreon_flair',\n",
    "            'collapsed_reason', 'removal_reason', 'can_mod_post', 'gildings', 'is_submitter', 'permalink', 'retrieved_on', \n",
    "            'subreddit_name_prefixed', 'subreddit_id', 'parent_id', 'link_id','archived', 'id', 'distinguished', 'edited']"
   ]
  },
  {
   "cell_type": "code",
   "execution_count": 9,
   "metadata": {},
   "outputs": [],
   "source": [
    "#Dropping variables from dataframe\n",
    "for c in drop_cols:\n",
    "    data = data.drop(c)"
   ]
  },
  {
   "cell_type": "code",
   "execution_count": 10,
   "metadata": {},
   "outputs": [],
   "source": [
    "#Dropping missing values. The only variable left that includes missing values is author_created_utc, so will\n",
    "#drop NAs based on that column only\n",
    "data= data.dropna(subset='author_created_utc')"
   ]
  },
  {
   "cell_type": "markdown",
   "metadata": {},
   "source": [
    "### Feature Engineering"
   ]
  },
  {
   "cell_type": "code",
   "execution_count": 11,
   "metadata": {},
   "outputs": [],
   "source": [
    "#Creating a feature for post length (in characters)\n",
    "data= data.withColumn('post_char_len', F.length('body'))"
   ]
  },
  {
   "cell_type": "code",
   "execution_count": 12,
   "metadata": {},
   "outputs": [],
   "source": [
    "#Converting author_created_utc and created_utc to timestamp data type\n",
    "data = data.withColumn(\"created_utc\", data.created_utc.cast(TimestampType()))\n",
    "data = data.withColumn(\"author_created_utc\", data.author_created_utc.cast(TimestampType()))"
   ]
  },
  {
   "cell_type": "code",
   "execution_count": 13,
   "metadata": {},
   "outputs": [],
   "source": [
    "#Creating new features that show day of week and time each post was created.\n",
    "find_weekday =  F.udf(lambda x: datetime.strptime(x, '%Y-%m-%d').strftime('%w'))\n",
    "\n",
    "data = data.withColumn('shortdate',F.col('created_utc').substr(1, 10))\\\n",
    "    .withColumn('weekday', find_weekday(F.col('shortdate')))\\\n",
    "    .drop('shortdate')\n",
    "\n",
    "data = data.withColumn('hour_posted',F.hour(F.col('created_utc')))"
   ]
  },
  {
   "cell_type": "code",
   "execution_count": 14,
   "metadata": {},
   "outputs": [],
   "source": [
    "#Creating a new feature for time difference between post and account creation date\n",
    "data = data.withColumn(\"account_active_time\", F.datediff(\"created_utc\",\"author_created_utc\"))"
   ]
  },
  {
   "cell_type": "code",
   "execution_count": 15,
   "metadata": {},
   "outputs": [],
   "source": [
    "#Casting additional variables \n",
    "data = data.withColumn('send_replies', data.send_replies.cast('integer'))\n",
    "data = data.withColumn('no_follow', data.no_follow.cast('integer'))\n",
    "data = data.withColumn('collapsed', data.collapsed.cast('integer'))\n",
    "data = data.withColumn('can_gild', data.can_gild.cast('integer'))\n",
    "data = data.withColumn('stickied', data.stickied.cast('integer'))\n",
    "\n",
    "#Dropping body since there is no NLP component to this assignment and dropping utc variables since we wont need them anymore\n",
    "data = data.drop('body')\n",
    "data = data.drop('author_created_utc')\n",
    "data = data.drop('created_utc')"
   ]
  },
  {
   "cell_type": "markdown",
   "metadata": {},
   "source": [
    "### Exploratory Data Analysis (EDA)"
   ]
  },
  {
   "cell_type": "code",
   "execution_count": 16,
   "metadata": {},
   "outputs": [
    {
     "name": "stdout",
     "output_type": "stream",
     "text": [
      "root\n",
      " |-- author: string (nullable = true)\n",
      " |-- can_gild: integer (nullable = true)\n",
      " |-- collapsed: integer (nullable = true)\n",
      " |-- controversiality: long (nullable = true)\n",
      " |-- gilded: long (nullable = true)\n",
      " |-- no_follow: integer (nullable = true)\n",
      " |-- score: long (nullable = true)\n",
      " |-- send_replies: integer (nullable = true)\n",
      " |-- stickied: integer (nullable = true)\n",
      " |-- subreddit: string (nullable = true)\n",
      " |-- subreddit_type: string (nullable = true)\n",
      " |-- post_char_len: integer (nullable = true)\n",
      " |-- weekday: string (nullable = true)\n",
      " |-- hour_posted: integer (nullable = true)\n",
      " |-- account_active_time: integer (nullable = true)\n",
      "\n"
     ]
    }
   ],
   "source": [
    "#Looking at the resulting schema\n",
    "data.printSchema()"
   ]
  },
  {
   "cell_type": "code",
   "execution_count": 17,
   "metadata": {},
   "outputs": [
    {
     "data": {
      "text/plain": [
       "DataFrame[author: string, can_gild: int, collapsed: int, controversiality: bigint, gilded: bigint, no_follow: int, score: bigint, send_replies: int, stickied: int, subreddit: string, subreddit_type: string, post_char_len: int, weekday: string, hour_posted: int, account_active_time: int]"
      ]
     },
     "execution_count": 17,
     "metadata": {},
     "output_type": "execute_result"
    }
   ],
   "source": [
    "#Caching a dataframe is a mechanism to speed up applications that access the same dataframe multiple times\n",
    "#Doing so in order to speed out the production of tables below as well as the modeling tasks that follow.\n",
    "data.cache()"
   ]
  },
  {
   "cell_type": "code",
   "execution_count": 18,
   "metadata": {},
   "outputs": [
    {
     "data": {
      "text/plain": [
       "15"
      ]
     },
     "execution_count": 18,
     "metadata": {},
     "output_type": "execute_result"
    }
   ],
   "source": [
    "#Number of columns\n",
    "len(data.columns)"
   ]
  },
  {
   "cell_type": "code",
   "execution_count": 19,
   "metadata": {},
   "outputs": [
    {
     "data": {
      "text/plain": [
       "433521422"
      ]
     },
     "execution_count": 19,
     "metadata": {},
     "output_type": "execute_result"
    }
   ],
   "source": [
    "#Number of rows\n",
    "data.count()"
   ]
  },
  {
   "cell_type": "code",
   "execution_count": 20,
   "metadata": {},
   "outputs": [
    {
     "name": "stdout",
     "output_type": "stream",
     "text": [
      "+------+--------+---------+----------------+------+---------+-----+------------+--------+---------+--------------+-------------+-------+-----------+-------------------+\n",
      "|author|can_gild|collapsed|controversiality|gilded|no_follow|score|send_replies|stickied|subreddit|subreddit_type|post_char_len|weekday|hour_posted|account_active_time|\n",
      "+------+--------+---------+----------------+------+---------+-----+------------+--------+---------+--------------+-------------+-------+-----------+-------------------+\n",
      "|     0|       0|        0|               0|     0|        0|    0|           0|       0|        0|             0|            0|      0|          0|                  0|\n",
      "+------+--------+---------+----------------+------+---------+-----+------------+--------+---------+--------------+-------------+-------+-----------+-------------------+\n",
      "\n"
     ]
    }
   ],
   "source": [
    "#Checking for missing data. \n",
    "#After cleaning, we have zero missing values in each of our columns\n",
    "data.select([F.count(F.when(F.isnull(c), c)).alias(c) for c in data.columns]).show()"
   ]
  },
  {
   "cell_type": "code",
   "execution_count": 21,
   "metadata": {},
   "outputs": [
    {
     "data": {
      "text/html": [
       "<div>\n",
       "<style scoped>\n",
       "    .dataframe tbody tr th:only-of-type {\n",
       "        vertical-align: middle;\n",
       "    }\n",
       "\n",
       "    .dataframe tbody tr th {\n",
       "        vertical-align: top;\n",
       "    }\n",
       "\n",
       "    .dataframe thead th {\n",
       "        text-align: right;\n",
       "    }\n",
       "</style>\n",
       "<table border=\"1\" class=\"dataframe\">\n",
       "  <thead>\n",
       "    <tr style=\"text-align: right;\">\n",
       "      <th></th>\n",
       "      <th>author</th>\n",
       "      <th>can_gild</th>\n",
       "      <th>collapsed</th>\n",
       "      <th>controversiality</th>\n",
       "      <th>gilded</th>\n",
       "      <th>no_follow</th>\n",
       "      <th>score</th>\n",
       "      <th>send_replies</th>\n",
       "      <th>stickied</th>\n",
       "      <th>subreddit</th>\n",
       "      <th>subreddit_type</th>\n",
       "      <th>post_char_len</th>\n",
       "      <th>weekday</th>\n",
       "      <th>hour_posted</th>\n",
       "      <th>account_active_time</th>\n",
       "    </tr>\n",
       "  </thead>\n",
       "  <tbody>\n",
       "    <tr>\n",
       "      <th>0</th>\n",
       "      <td>TistedLogic</td>\n",
       "      <td>1</td>\n",
       "      <td>0</td>\n",
       "      <td>0</td>\n",
       "      <td>0</td>\n",
       "      <td>1</td>\n",
       "      <td>2</td>\n",
       "      <td>1</td>\n",
       "      <td>0</td>\n",
       "      <td>Unexpected</td>\n",
       "      <td>public</td>\n",
       "      <td>55</td>\n",
       "      <td>1</td>\n",
       "      <td>0</td>\n",
       "      <td>2613</td>\n",
       "    </tr>\n",
       "    <tr>\n",
       "      <th>1</th>\n",
       "      <td>misssaladfingers</td>\n",
       "      <td>1</td>\n",
       "      <td>0</td>\n",
       "      <td>0</td>\n",
       "      <td>0</td>\n",
       "      <td>1</td>\n",
       "      <td>1</td>\n",
       "      <td>1</td>\n",
       "      <td>0</td>\n",
       "      <td>insomnia</td>\n",
       "      <td>public</td>\n",
       "      <td>129</td>\n",
       "      <td>1</td>\n",
       "      <td>0</td>\n",
       "      <td>18</td>\n",
       "    </tr>\n",
       "    <tr>\n",
       "      <th>2</th>\n",
       "      <td>Increase_Vitality</td>\n",
       "      <td>1</td>\n",
       "      <td>0</td>\n",
       "      <td>0</td>\n",
       "      <td>0</td>\n",
       "      <td>0</td>\n",
       "      <td>37</td>\n",
       "      <td>1</td>\n",
       "      <td>0</td>\n",
       "      <td>pics</td>\n",
       "      <td>public</td>\n",
       "      <td>833</td>\n",
       "      <td>1</td>\n",
       "      <td>0</td>\n",
       "      <td>817</td>\n",
       "    </tr>\n",
       "    <tr>\n",
       "      <th>3</th>\n",
       "      <td>volkanize</td>\n",
       "      <td>1</td>\n",
       "      <td>0</td>\n",
       "      <td>0</td>\n",
       "      <td>0</td>\n",
       "      <td>1</td>\n",
       "      <td>1</td>\n",
       "      <td>1</td>\n",
       "      <td>0</td>\n",
       "      <td>NoStupidQuestions</td>\n",
       "      <td>public</td>\n",
       "      <td>200</td>\n",
       "      <td>1</td>\n",
       "      <td>0</td>\n",
       "      <td>76</td>\n",
       "    </tr>\n",
       "    <tr>\n",
       "      <th>4</th>\n",
       "      <td>FeveredArtist</td>\n",
       "      <td>1</td>\n",
       "      <td>0</td>\n",
       "      <td>0</td>\n",
       "      <td>0</td>\n",
       "      <td>1</td>\n",
       "      <td>1</td>\n",
       "      <td>1</td>\n",
       "      <td>0</td>\n",
       "      <td>FortNiteMobile</td>\n",
       "      <td>public</td>\n",
       "      <td>153</td>\n",
       "      <td>1</td>\n",
       "      <td>0</td>\n",
       "      <td>560</td>\n",
       "    </tr>\n",
       "  </tbody>\n",
       "</table>\n",
       "</div>"
      ],
      "text/plain": [
       "              author  can_gild  collapsed  controversiality  gilded  \\\n",
       "0        TistedLogic         1          0                 0       0   \n",
       "1   misssaladfingers         1          0                 0       0   \n",
       "2  Increase_Vitality         1          0                 0       0   \n",
       "3          volkanize         1          0                 0       0   \n",
       "4      FeveredArtist         1          0                 0       0   \n",
       "\n",
       "   no_follow  score  send_replies  stickied          subreddit subreddit_type  \\\n",
       "0          1      2             1         0         Unexpected         public   \n",
       "1          1      1             1         0           insomnia         public   \n",
       "2          0     37             1         0               pics         public   \n",
       "3          1      1             1         0  NoStupidQuestions         public   \n",
       "4          1      1             1         0     FortNiteMobile         public   \n",
       "\n",
       "   post_char_len weekday  hour_posted  account_active_time  \n",
       "0             55       1            0                 2613  \n",
       "1            129       1            0                   18  \n",
       "2            833       1            0                  817  \n",
       "3            200       1            0                   76  \n",
       "4            153       1            0                  560  "
      ]
     },
     "execution_count": 21,
     "metadata": {},
     "output_type": "execute_result"
    }
   ],
   "source": [
    "#Taking a look at the first five rows of the dataframe \n",
    "pd.DataFrame(data.take(5), columns=data.columns)"
   ]
  },
  {
   "cell_type": "markdown",
   "metadata": {},
   "source": [
    "#### Continuous Variables"
   ]
  },
  {
   "cell_type": "markdown",
   "metadata": {},
   "source": [
    "**Tables**"
   ]
  },
  {
   "cell_type": "code",
   "execution_count": 22,
   "metadata": {},
   "outputs": [
    {
     "name": "stdout",
     "output_type": "stream",
     "text": [
      "+-------+--------------------+------------------+------------------+-------------------+\n",
      "|summary|              gilded|             score|     post_char_len|account_active_time|\n",
      "+-------+--------------------+------------------+------------------+-------------------+\n",
      "|  count|           433521422|         433521422|         433521422|          433521422|\n",
      "|   mean|2.463361545257157E-4| 9.769788386604803| 169.8443738657971| 1024.9049108719707|\n",
      "| stddev|0.018623834331382316|141.53443510549874|315.95104164773454|   902.731723743485|\n",
      "|    min|                   0|            -22280|                 0|                  0|\n",
      "|    max|                  66|             90192|             33374|               4985|\n",
      "+-------+--------------------+------------------+------------------+-------------------+\n",
      "\n"
     ]
    }
   ],
   "source": [
    "#Selecting and describing continuous variables\n",
    "num_cols = ['gilded', 'score', 'post_char_len','account_active_time']\n",
    "data.select(num_cols).describe().show()"
   ]
  },
  {
   "cell_type": "code",
   "execution_count": 23,
   "metadata": {},
   "outputs": [
    {
     "data": {
      "text/plain": [
       "16295699"
      ]
     },
     "execution_count": 23,
     "metadata": {},
     "output_type": "execute_result"
    }
   ],
   "source": [
    "#Number of comments with a negative score\n",
    "data.filter(data['score'] < 0).count()"
   ]
  },
  {
   "cell_type": "code",
   "execution_count": 24,
   "metadata": {},
   "outputs": [
    {
     "data": {
      "text/plain": [
       "402731807"
      ]
     },
     "execution_count": 24,
     "metadata": {},
     "output_type": "execute_result"
    }
   ],
   "source": [
    "#Number of comments with a positive score\n",
    "data.filter(data['score'] > 0).count()"
   ]
  },
  {
   "cell_type": "markdown",
   "metadata": {},
   "source": [
    "**Graphs**"
   ]
  },
  {
   "cell_type": "code",
   "execution_count": 25,
   "metadata": {},
   "outputs": [
    {
     "data": {
      "text/plain": [
       "Text(0.5, 1.0, 'Histogram of gilded count')"
      ]
     },
     "execution_count": 25,
     "metadata": {},
     "output_type": "execute_result"
    },
    {
     "data": {
      "image/png": "[encoded data removed]",
      "text/plain": [
       "<Figure size 432x288 with 1 Axes>"
      ]
     },
     "metadata": {
      "needs_background": "light"
     },
     "output_type": "display_data"
    }
   ],
   "source": [
    "#Taking a 1,000,000 random sample of the dataset and graphing the distribution of the 'gilded' and 'score' variables\n",
    "#1,000,000 represents a fraction of 0.0023 of 433,521,422\n",
    "gilded_df = data.select(['gilded']).sample(False, 0.0023, 12345).toPandas()\n",
    "sns.distplot(gilded_df)\n",
    "plt.xlabel('gilded_count')\n",
    "plt.ylabel('frequecy')\n",
    "plt.title('Histogram of gilded count')"
   ]
  },
  {
   "cell_type": "code",
   "execution_count": 26,
   "metadata": {},
   "outputs": [
    {
     "data": {
      "text/plain": [
       "Text(0.5, 1.0, 'Histogram of post scores')"
      ]
     },
     "execution_count": 26,
     "metadata": {},
     "output_type": "execute_result"
    },
    {
     "data": {
      "image/png": "[encoded data removed]",
      "text/plain": [
       "<Figure size 432x288 with 1 Axes>"
      ]
     },
     "metadata": {
      "needs_background": "light"
     },
     "output_type": "display_data"
    }
   ],
   "source": [
    "score_df = data.select(['score']).sample(False, 0.0023, 12345).toPandas()\n",
    "sns.distplot(score_df)\n",
    "plt.xlabel('post scores')\n",
    "plt.ylabel('frequecy')\n",
    "plt.title('Histogram of post scores')"
   ]
  },
  {
   "cell_type": "code",
   "execution_count": 27,
   "metadata": {},
   "outputs": [
    {
     "data": {
      "text/plain": [
       "Text(0.5, 1.0, 'Histogram of post length')"
      ]
     },
     "execution_count": 27,
     "metadata": {},
     "output_type": "execute_result"
    },
    {
     "data": {
      "image/png": "[encoded data removed]",
      "text/plain": [
       "<Figure size 432x288 with 1 Axes>"
      ]
     },
     "metadata": {
      "needs_background": "light"
     },
     "output_type": "display_data"
    }
   ],
   "source": [
    "length_df = data.select(['post_char_len']).sample(False, 0.0023, 12345).toPandas()\n",
    "sns.distplot(length_df)\n",
    "plt.xlabel('post length in characters')\n",
    "plt.ylabel('frequecy')\n",
    "plt.title('Histogram of post length')"
   ]
  },
  {
   "cell_type": "code",
   "execution_count": 28,
   "metadata": {},
   "outputs": [
    {
     "data": {
      "text/plain": [
       "Text(0.5, 1.0, 'Histogram of account active time')"
      ]
     },
     "execution_count": 28,
     "metadata": {},
     "output_type": "execute_result"
    },
    {
     "data": {
      "image/png": "[encoded data removed]",
      "text/plain": [
       "<Figure size 432x288 with 1 Axes>"
      ]
     },
     "metadata": {
      "needs_background": "light"
     },
     "output_type": "display_data"
    }
   ],
   "source": [
    "aat_df = data.select(['account_active_time']).sample(False, 0.0023, 12345).toPandas()\n",
    "sns.distplot(aat_df)\n",
    "plt.xlabel('account active time in days')\n",
    "plt.ylabel('frequecy')\n",
    "plt.title('Histogram of account active time')"
   ]
  },
  {
   "cell_type": "markdown",
   "metadata": {},
   "source": [
    "#### Discrete Variables"
   ]
  },
  {
   "cell_type": "markdown",
   "metadata": {},
   "source": [
    "**Tables**"
   ]
  },
  {
   "cell_type": "markdown",
   "metadata": {},
   "source": [
    "Count for each binary variable"
   ]
  },
  {
   "cell_type": "code",
   "execution_count": 29,
   "metadata": {},
   "outputs": [
    {
     "name": "stdout",
     "output_type": "stream",
     "text": [
      "+----------------+---------+\n",
      "|controversiality|    count|\n",
      "+----------------+---------+\n",
      "|               0|424029603|\n",
      "|               1|  9491819|\n",
      "+----------------+---------+\n",
      "\n"
     ]
    }
   ],
   "source": [
    "data.groupby('controversiality').count().show()"
   ]
  },
  {
   "cell_type": "code",
   "execution_count": 30,
   "metadata": {},
   "outputs": [
    {
     "name": "stdout",
     "output_type": "stream",
     "text": [
      "+--------+---------+\n",
      "|can_gild|    count|\n",
      "+--------+---------+\n",
      "|       1|432275823|\n",
      "|       0|  1245599|\n",
      "+--------+---------+\n",
      "\n"
     ]
    }
   ],
   "source": [
    "data.groupby('can_gild').count().show()"
   ]
  },
  {
   "cell_type": "code",
   "execution_count": 31,
   "metadata": {},
   "outputs": [
    {
     "name": "stdout",
     "output_type": "stream",
     "text": [
      "+---------+---------+\n",
      "|collapsed|    count|\n",
      "+---------+---------+\n",
      "|        1|  6181499|\n",
      "|        0|427339923|\n",
      "+---------+---------+\n",
      "\n"
     ]
    }
   ],
   "source": [
    "data.groupby('collapsed').count().show()"
   ]
  },
  {
   "cell_type": "code",
   "execution_count": 32,
   "metadata": {},
   "outputs": [
    {
     "name": "stdout",
     "output_type": "stream",
     "text": [
      "+---------+---------+\n",
      "|no_follow|    count|\n",
      "+---------+---------+\n",
      "|        1|329713769|\n",
      "|        0|103807653|\n",
      "+---------+---------+\n",
      "\n"
     ]
    }
   ],
   "source": [
    "data.groupby('no_follow').count().show()"
   ]
  },
  {
   "cell_type": "code",
   "execution_count": 33,
   "metadata": {},
   "outputs": [
    {
     "name": "stdout",
     "output_type": "stream",
     "text": [
      "+------------+---------+\n",
      "|send_replies|    count|\n",
      "+------------+---------+\n",
      "|           1|427254946|\n",
      "|           0|  6266476|\n",
      "+------------+---------+\n",
      "\n"
     ]
    }
   ],
   "source": [
    "data.groupby('send_replies').count().show()"
   ]
  },
  {
   "cell_type": "code",
   "execution_count": 34,
   "metadata": {},
   "outputs": [
    {
     "name": "stdout",
     "output_type": "stream",
     "text": [
      "+--------+---------+\n",
      "|stickied|    count|\n",
      "+--------+---------+\n",
      "|       1|  2636044|\n",
      "|       0|430885378|\n",
      "+--------+---------+\n",
      "\n"
     ]
    }
   ],
   "source": [
    "data.groupby('stickied').count().show()"
   ]
  },
  {
   "cell_type": "markdown",
   "metadata": {},
   "source": [
    "Count for categorical variables with multiple categories. Displaying the count in descending order. "
   ]
  },
  {
   "cell_type": "code",
   "execution_count": 35,
   "metadata": {},
   "outputs": [
    {
     "name": "stdout",
     "output_type": "stream",
     "text": [
      "+-------+--------+\n",
      "|weekday|   count|\n",
      "+-------+--------+\n",
      "|      3|66190082|\n",
      "|      4|65400455|\n",
      "|      2|65332277|\n",
      "|      1|64068419|\n",
      "|      5|60779579|\n",
      "|      0|57469392|\n",
      "|      6|54281218|\n",
      "+-------+--------+\n",
      "\n"
     ]
    }
   ],
   "source": [
    "data.groupby('weekday').count().sort(F.desc('count')).show()"
   ]
  },
  {
   "cell_type": "code",
   "execution_count": 36,
   "metadata": {},
   "outputs": [
    {
     "name": "stdout",
     "output_type": "stream",
     "text": [
      "+-----------+--------+\n",
      "|hour_posted|   count|\n",
      "+-----------+--------+\n",
      "|         19|24061245|\n",
      "|         18|24016425|\n",
      "|         20|23873514|\n",
      "|         17|23823914|\n",
      "|         21|23407316|\n",
      "|         16|23134295|\n",
      "|         22|22231379|\n",
      "|         15|21627140|\n",
      "|         23|21203813|\n",
      "|          0|20775667|\n",
      "|          1|20726325|\n",
      "|          2|20640371|\n",
      "|          3|19560484|\n",
      "|         14|19217364|\n",
      "|          4|17421732|\n",
      "|         13|16309633|\n",
      "|          5|15034442|\n",
      "|         12|13207787|\n",
      "|          6|12731934|\n",
      "|          7|11038808|\n",
      "+-----------+--------+\n",
      "only showing top 20 rows\n",
      "\n"
     ]
    }
   ],
   "source": [
    "data.groupby('hour_posted').count().sort(F.desc('count')).show()"
   ]
  },
  {
   "cell_type": "code",
   "execution_count": 37,
   "metadata": {},
   "outputs": [
    {
     "name": "stdout",
     "output_type": "stream",
     "text": [
      "+-----------------+--------+\n",
      "|        subreddit|   count|\n",
      "+-----------------+--------+\n",
      "|        AskReddit|22743092|\n",
      "|         politics| 7849124|\n",
      "|              nfl| 5223387|\n",
      "|            funny| 3930650|\n",
      "|              nba| 3821067|\n",
      "|       The_Donald| 3570514|\n",
      "|        worldnews| 3066889|\n",
      "|              CFB| 3051261|\n",
      "|           gaming| 2980313|\n",
      "|       FortNiteBR| 2920136|\n",
      "|        dankmemes| 2806927|\n",
      "|         AskOuija| 2732205|\n",
      "|             pics| 2554881|\n",
      "|            memes| 2379106|\n",
      "|             news| 2329501|\n",
      "|           soccer| 2311971|\n",
      "|  leagueoflegends| 2288515|\n",
      "|   Showerthoughts| 2154969|\n",
      "|reddeadredemption| 2080428|\n",
      "| unpopularopinion| 2064818|\n",
      "+-----------------+--------+\n",
      "only showing top 20 rows\n",
      "\n"
     ]
    }
   ],
   "source": [
    "data.groupby('subreddit').count().sort(F.desc('count')).show()"
   ]
  },
  {
   "cell_type": "code",
   "execution_count": 38,
   "metadata": {},
   "outputs": [
    {
     "name": "stdout",
     "output_type": "stream",
     "text": [
      "+---------------+---------+\n",
      "| subreddit_type|    count|\n",
      "+---------------+---------+\n",
      "|         public|429460085|\n",
      "|     restricted|  3440192|\n",
      "|           user|   621143|\n",
      "|gold_restricted|        2|\n",
      "+---------------+---------+\n",
      "\n"
     ]
    }
   ],
   "source": [
    "data.groupby('subreddit_type').count().sort(F.desc('count')).show()"
   ]
  },
  {
   "cell_type": "code",
   "execution_count": 39,
   "metadata": {},
   "outputs": [
    {
     "name": "stdout",
     "output_type": "stream",
     "text": [
      "+--------------------+-------+\n",
      "|              author|  count|\n",
      "+--------------------+-------+\n",
      "|       AutoModerator|5222586|\n",
      "|    MemeInvestor_bot| 307896|\n",
      "|         transcribot| 269443|\n",
      "|KeepingDankMemesDank| 222801|\n",
      "|transcribersofreddit| 198197|\n",
      "| NFCAAOfficialRefBot| 136902|\n",
      "|      MTGCardFetcher| 130178|\n",
      "|          vokoxazara| 126528|\n",
      "|       imguralbumbot| 114199|\n",
      "|          mediapedia|  99348|\n",
      "|CommonMisspellingBot|  92196|\n",
      "|      TotesMessenger|  87903|\n",
      "|         Marketron-I|  87577|\n",
      "|        SnapshillBot|  72432|\n",
      "|          GVHFYTRTGH|  70857|\n",
      "|        sneakpeekbot|  70822|\n",
      "|           ManyYoung|  67701|\n",
      "|         WikiTextBot|  61143|\n",
      "|         request_bot|  60551|\n",
      "|        timezone_bot|  59992|\n",
      "+--------------------+-------+\n",
      "only showing top 20 rows\n",
      "\n"
     ]
    }
   ],
   "source": [
    "data.groupby('author').count().sort(F.desc('count')).show()"
   ]
  },
  {
   "cell_type": "markdown",
   "metadata": {},
   "source": [
    "Counting number of unique authors, subreddit types, and account active times "
   ]
  },
  {
   "cell_type": "code",
   "execution_count": 41,
   "metadata": {},
   "outputs": [
    {
     "name": "stdout",
     "output_type": "stream",
     "text": [
      "+----------------------+\n",
      "|count(DISTINCT author)|\n",
      "+----------------------+\n",
      "|              10017260|\n",
      "+----------------------+\n",
      "\n"
     ]
    }
   ],
   "source": [
    "data.select(F.countDistinct('author')).show()"
   ]
  },
  {
   "cell_type": "code",
   "execution_count": 42,
   "metadata": {},
   "outputs": [
    {
     "name": "stdout",
     "output_type": "stream",
     "text": [
      "+------------------------------+\n",
      "|count(DISTINCT subreddit_type)|\n",
      "+------------------------------+\n",
      "|                             4|\n",
      "+------------------------------+\n",
      "\n"
     ]
    }
   ],
   "source": [
    "data.select(F.countDistinct('subreddit_type')).show()"
   ]
  },
  {
   "cell_type": "code",
   "execution_count": 43,
   "metadata": {},
   "outputs": [
    {
     "name": "stdout",
     "output_type": "stream",
     "text": [
      "+-------------------------+\n",
      "|count(DISTINCT subreddit)|\n",
      "+-------------------------+\n",
      "|                   221004|\n",
      "+-------------------------+\n",
      "\n"
     ]
    }
   ],
   "source": [
    "data.select(F.countDistinct('subreddit')).show()"
   ]
  },
  {
   "cell_type": "markdown",
   "metadata": {},
   "source": [
    "**Graphs**"
   ]
  },
  {
   "cell_type": "code",
   "execution_count": 44,
   "metadata": {},
   "outputs": [
    {
     "data": {
      "text/plain": [
       "<matplotlib.axes._subplots.AxesSubplot at 0x7fbe580dfe50>"
      ]
     },
     "execution_count": 44,
     "metadata": {},
     "output_type": "execute_result"
    },
    {
     "data": {
      "image/png": "[encoded data removed]",
      "text/plain": [
       "<Figure size 432x288 with 1 Axes>"
      ]
     },
     "metadata": {
      "needs_background": "light"
     },
     "output_type": "display_data"
    }
   ],
   "source": [
    "#Taking a 1,000,000 random sample of the dataset and making a bar plot of the 'weekday' variable\n",
    "#1,000,000 represents a fraction of 0.0023 of 433,521,422\n",
    "weekday_df = data.select(['weekday']).sample(False, 0.0023, 12345).toPandas()\n",
    "sns.countplot(x='weekday', data=weekday_df)"
   ]
  },
  {
   "cell_type": "code",
   "execution_count": 45,
   "metadata": {},
   "outputs": [
    {
     "data": {
      "text/plain": [
       "<matplotlib.axes._subplots.AxesSubplot at 0x7fbe4863d290>"
      ]
     },
     "execution_count": 45,
     "metadata": {},
     "output_type": "execute_result"
    },
    {
     "data": {
      "image/png": "[encoded data removed]",
      "text/plain": [
       "<Figure size 432x288 with 1 Axes>"
      ]
     },
     "metadata": {
      "needs_background": "light"
     },
     "output_type": "display_data"
    }
   ],
   "source": [
    "hour_df = data.select(['hour_posted']).sample(False, 0.0023, 12345).toPandas()\n",
    "sns.countplot(x='hour_posted', data=hour_df)"
   ]
  },
  {
   "cell_type": "markdown",
   "metadata": {},
   "source": [
    "#### Relationship between variables"
   ]
  },
  {
   "cell_type": "code",
   "execution_count": 46,
   "metadata": {},
   "outputs": [
    {
     "data": {
      "text/plain": [
       "<seaborn.axisgrid.FacetGrid at 0x7fbe48597b90>"
      ]
     },
     "execution_count": 46,
     "metadata": {},
     "output_type": "execute_result"
    },
    {
     "data": {
      "image/png": "[encoded data removed]",
      "text/plain": [
       "<Figure size 360x360 with 1 Axes>"
      ]
     },
     "metadata": {
      "needs_background": "light"
     },
     "output_type": "display_data"
    }
   ],
   "source": [
    "d_df = data.select(['score','account_active_time']).sample(False, 0.0023, 12345).toPandas()\n",
    "sns.lmplot(y = 'score', x = 'account_active_time', data=d_df)"
   ]
  },
  {
   "cell_type": "code",
   "execution_count": 47,
   "metadata": {},
   "outputs": [
    {
     "data": {
      "text/plain": [
       "<seaborn.axisgrid.FacetGrid at 0x7fbe4850e410>"
      ]
     },
     "execution_count": 47,
     "metadata": {},
     "output_type": "execute_result"
    },
    {
     "data": {
      "image/png": "[encoded data removed]",
      "text/plain": [
       "<Figure size 360x360 with 1 Axes>"
      ]
     },
     "metadata": {
      "needs_background": "light"
     },
     "output_type": "display_data"
    }
   ],
   "source": [
    "g_df = data.select(['score','gilded']).sample(False, 0.0023, 12345).toPandas()\n",
    "sns.lmplot(y = 'gilded', x = 'score', data=g_df)"
   ]
  },
  {
   "cell_type": "markdown",
   "metadata": {},
   "source": [
    "### Machine Learning Models"
   ]
  },
  {
   "cell_type": "code",
   "execution_count": 18,
   "metadata": {},
   "outputs": [
    {
     "name": "stdout",
     "output_type": "stream",
     "text": [
      "Training Dataset Count: 346829662\n",
      "Test Dataset Count: 86691760\n"
     ]
    }
   ],
   "source": [
    "#Splitting data into training and test \n",
    "\n",
    "splitted_data = data.randomSplit([0.8, 0.20], seed=24)\n",
    "train_data = splitted_data[0]\n",
    "test_data = splitted_data[1]\n",
    "\n",
    "print(\"Training Dataset Count: \" + str(train_data.count()))\n",
    "print(\"Test Dataset Count: \" + str(test_data.count()))"
   ]
  },
  {
   "cell_type": "markdown",
   "metadata": {},
   "source": [
    "### Predicting whether a post is 'stickied' or not"
   ]
  },
  {
   "cell_type": "code",
   "execution_count": 19,
   "metadata": {},
   "outputs": [],
   "source": [
    "#Stickied as our label\n",
    "stringIndexer_label = StringIndexer(inputCol=\"stickied\", outputCol=\"label\") "
   ]
  },
  {
   "cell_type": "code",
   "execution_count": 20,
   "metadata": {},
   "outputs": [],
   "source": [
    "#Converting discrete variables to index columns\n",
    "stringIndexer_subreddit_type = StringIndexer(inputCol=\"subreddit_type\", outputCol=\"subreddit_type_IX\")\n",
    "stringIndexer_weekday = StringIndexer(inputCol=\"weekday\", outputCol=\"weekday_IX\")\n",
    "stringIndexer_can_gild = StringIndexer(inputCol=\"can_gild\", outputCol=\"can_gild_IX\")\n",
    "stringIndexer_collapsed = StringIndexer(inputCol=\"collapsed\", outputCol=\"collapsed_IX\")\n",
    "stringIndexer_no_follow = StringIndexer(inputCol=\"no_follow\", outputCol=\"no_follow_IX\")\n",
    "stringIndexer_send_replies = StringIndexer(inputCol=\"send_replies\", outputCol=\"send_replies_IX\")\n",
    "stringIndexer_controversiality = StringIndexer(inputCol=\"controversiality\", outputCol=\"controversiality_IX\")\n",
    "stringIndexer_hour_posted = StringIndexer(inputCol=\"hour_posted\", outputCol=\"hour_posted_IX\")"
   ]
  },
  {
   "cell_type": "code",
   "execution_count": 21,
   "metadata": {},
   "outputs": [],
   "source": [
    "#Encoding discrete variables\n",
    "\n",
    "encoder= OneHotEncoderEstimator(\n",
    "    inputCols=[\"subreddit_type_IX\", \"weekday_IX\",\n",
    "               \"can_gild_IX\",\"collapsed_IX\", \"no_follow_IX\", \"send_replies_IX\",\n",
    "               \"controversiality_IX\", \"hour_posted_IX\"],\n",
    "    outputCols=[\"subreddit_type_vec\", \"weekday_vec\",\n",
    "               \"can_gild_vec\",\"collapsed_vec\", \"no_follow_vec\", \"send_replies_vec\",\n",
    "               \"controversiality_vec\", \"hour_posted_vec\"])"
   ]
  },
  {
   "cell_type": "code",
   "execution_count": 28,
   "metadata": {},
   "outputs": [],
   "source": [
    "#Creating a feature vector with variables of interest\n",
    "vectorAssembler_features = VectorAssembler(\n",
    "    inputCols=[\"gilded\", \"score\", \"post_char_len\",\"account_active_time\",\n",
    "               \"subreddit_type_vec\", \"weekday_vec\",\"can_gild_vec\",\n",
    "               \"collapsed_vec\", \"no_follow_vec\", \"send_replies_vec\",\n",
    "               \"controversiality_vec\", \"hour_posted_vec\"],\n",
    "    outputCol='features')"
   ]
  },
  {
   "cell_type": "code",
   "execution_count": 29,
   "metadata": {},
   "outputs": [],
   "source": [
    "#Converting label indexes back into the actual labels\n",
    "labelConverter = IndexToString(inputCol='prediction', outputCol='predictedLabel',\n",
    "                             labels=stringIndexer_label.fit(data).labels)"
   ]
  },
  {
   "cell_type": "code",
   "execution_count": 30,
   "metadata": {},
   "outputs": [],
   "source": [
    "evaluator = BinaryClassificationEvaluator(labelCol='label', \n",
    "                                             rawPredictionCol='prediction',\n",
    "                                             metricName='areaUnderROC')"
   ]
  },
  {
   "cell_type": "markdown",
   "metadata": {},
   "source": [
    "**Logistic Regression**"
   ]
  },
  {
   "cell_type": "code",
   "execution_count": 31,
   "metadata": {},
   "outputs": [],
   "source": [
    "#Defining estimator\n",
    "lr = LogisticRegression(labelCol='label', featuresCol='features')"
   ]
  },
  {
   "cell_type": "code",
   "execution_count": 32,
   "metadata": {},
   "outputs": [],
   "source": [
    "#Building the pipeline\n",
    "pipeline_LR = Pipeline(stages=[stringIndexer_label,\n",
    "                               stringIndexer_subreddit_type,\n",
    "                               stringIndexer_weekday,\n",
    "                               stringIndexer_can_gild,\n",
    "                               stringIndexer_collapsed,\n",
    "                               stringIndexer_no_follow,\n",
    "                               stringIndexer_send_replies,\n",
    "                               stringIndexer_controversiality,\n",
    "                               stringIndexer_hour_posted,\n",
    "                               encoder,\n",
    "                               vectorAssembler_features, \n",
    "                               lr, \n",
    "                               labelConverter])"
   ]
  },
  {
   "cell_type": "code",
   "execution_count": 33,
   "metadata": {},
   "outputs": [],
   "source": [
    "#Fitting Logistic Regression model\n",
    "model_LR = pipeline_LR.fit(train_data)"
   ]
  },
  {
   "cell_type": "code",
   "execution_count": 34,
   "metadata": {},
   "outputs": [],
   "source": [
    "#Evaluating the model\n",
    "predictions_LR = model_LR.transform(test_data)"
   ]
  },
  {
   "cell_type": "code",
   "execution_count": 35,
   "metadata": {},
   "outputs": [
    {
     "data": {
      "text/plain": [
       "0.5039673804143159"
      ]
     },
     "execution_count": 35,
     "metadata": {},
     "output_type": "execute_result"
    }
   ],
   "source": [
    "auc_LR = evaluator.evaluate(predictions_LR)\n",
    "auc_LR"
   ]
  },
  {
   "cell_type": "markdown",
   "metadata": {},
   "source": [
    "**Random Forest**"
   ]
  },
  {
   "cell_type": "code",
   "execution_count": 36,
   "metadata": {},
   "outputs": [],
   "source": [
    "#Defining estimator\n",
    "rf = RandomForestClassifier(labelCol=\"label\", featuresCol=\"features\")"
   ]
  },
  {
   "cell_type": "code",
   "execution_count": 37,
   "metadata": {},
   "outputs": [],
   "source": [
    "#Building the pipeline\n",
    "pipeline_rf = Pipeline(stages=[stringIndexer_label,\n",
    "                               stringIndexer_subreddit_type,\n",
    "                               stringIndexer_weekday,\n",
    "                               stringIndexer_can_gild,\n",
    "                               stringIndexer_collapsed,\n",
    "                               stringIndexer_no_follow,\n",
    "                               stringIndexer_send_replies,\n",
    "                               stringIndexer_controversiality,\n",
    "                               stringIndexer_hour_posted,\n",
    "                               encoder,\n",
    "                               vectorAssembler_features, \n",
    "                               rf, \n",
    "                               labelConverter])"
   ]
  },
  {
   "cell_type": "code",
   "execution_count": 38,
   "metadata": {},
   "outputs": [],
   "source": [
    "#Fitting the model\n",
    "model_rf = pipeline_rf.fit(train_data)"
   ]
  },
  {
   "cell_type": "code",
   "execution_count": 39,
   "metadata": {},
   "outputs": [],
   "source": [
    "#Evaluating the model\n",
    "predictions_rf = model_rf.transform(test_data)"
   ]
  },
  {
   "cell_type": "code",
   "execution_count": 40,
   "metadata": {},
   "outputs": [
    {
     "data": {
      "text/plain": [
       "0.5"
      ]
     },
     "execution_count": 40,
     "metadata": {},
     "output_type": "execute_result"
    }
   ],
   "source": [
    "auc_rf = evaluator.evaluate(predictions_rf)\n",
    "auc_rf"
   ]
  },
  {
   "cell_type": "markdown",
   "metadata": {},
   "source": [
    "**Gradient Boosted Tree**"
   ]
  },
  {
   "cell_type": "code",
   "execution_count": 41,
   "metadata": {},
   "outputs": [],
   "source": [
    "gbt = GBTClassifier(labelCol=\"label\", featuresCol=\"features\", maxIter=15)"
   ]
  },
  {
   "cell_type": "code",
   "execution_count": 42,
   "metadata": {},
   "outputs": [],
   "source": [
    "#Building the pipeline\n",
    "pipeline_gbt = Pipeline(stages=[stringIndexer_label,\n",
    "                               stringIndexer_subreddit_type,\n",
    "                               stringIndexer_weekday,\n",
    "                               stringIndexer_can_gild,\n",
    "                               stringIndexer_collapsed,\n",
    "                               stringIndexer_no_follow,\n",
    "                               stringIndexer_send_replies,\n",
    "                               stringIndexer_controversiality,\n",
    "                               stringIndexer_hour_posted,\n",
    "                               encoder,\n",
    "                               vectorAssembler_features, \n",
    "                               gbt, \n",
    "                               labelConverter])"
   ]
  },
  {
   "cell_type": "code",
   "execution_count": 43,
   "metadata": {},
   "outputs": [],
   "source": [
    "#Fitting the model\n",
    "model_gbt = pipeline_gbt.fit(train_data)"
   ]
  },
  {
   "cell_type": "code",
   "execution_count": 44,
   "metadata": {},
   "outputs": [],
   "source": [
    "#Evaluating the model\n",
    "predictions_gbt = model_gbt.transform(test_data)"
   ]
  },
  {
   "cell_type": "code",
   "execution_count": 45,
   "metadata": {},
   "outputs": [
    {
     "data": {
      "text/plain": [
       "0.5075491010751847"
      ]
     },
     "execution_count": 45,
     "metadata": {},
     "output_type": "execute_result"
    }
   ],
   "source": [
    "auc_gbt = evaluator.evaluate(predictions_gbt)\n",
    "auc_gbt"
   ]
  },
  {
   "cell_type": "markdown",
   "metadata": {},
   "source": [
    "### Predicting whether a post has 'no_follow' links or not"
   ]
  },
  {
   "cell_type": "code",
   "execution_count": 46,
   "metadata": {},
   "outputs": [],
   "source": [
    "#no_follow as our label\n",
    "stringIndexer_label = StringIndexer(inputCol=\"no_follow\", outputCol=\"label\") "
   ]
  },
  {
   "cell_type": "code",
   "execution_count": 47,
   "metadata": {},
   "outputs": [],
   "source": [
    "#Converting discrete variables to index columns\n",
    "stringIndexer_subreddit_type = StringIndexer(inputCol=\"subreddit_type\", outputCol=\"subreddit_type_IX\")\n",
    "stringIndexer_weekday = StringIndexer(inputCol=\"weekday\", outputCol=\"weekday_IX\")\n",
    "stringIndexer_can_gild = StringIndexer(inputCol=\"can_gild\", outputCol=\"can_gild_IX\")\n",
    "stringIndexer_collapsed = StringIndexer(inputCol=\"collapsed\", outputCol=\"collapsed_IX\")\n",
    "stringIndexer_stickied = StringIndexer(inputCol=\"stickied\", outputCol=\"stickied_IX\")\n",
    "stringIndexer_send_replies = StringIndexer(inputCol=\"send_replies\", outputCol=\"send_replies_IX\")\n",
    "stringIndexer_controversiality = StringIndexer(inputCol=\"controversiality\", outputCol=\"controversiality_IX\")\n",
    "stringIndexer_hour_posted = StringIndexer(inputCol=\"hour_posted\", outputCol=\"hour_posted_IX\")"
   ]
  },
  {
   "cell_type": "code",
   "execution_count": 48,
   "metadata": {},
   "outputs": [],
   "source": [
    "#Encoding discrete variables\n",
    "\n",
    "encoder= OneHotEncoderEstimator(\n",
    "    inputCols=[\"subreddit_type_IX\", \"weekday_IX\",\n",
    "               \"can_gild_IX\",\"collapsed_IX\", \"stickied_IX\", \"send_replies_IX\",\n",
    "               \"controversiality_IX\", \"hour_posted_IX\"],\n",
    "    outputCols=[\"subreddit_type_vec\", \"weekday_vec\",\n",
    "               \"can_gild_vec\",\"collapsed_vec\", \"stickied_vec\", \"send_replies_vec\",\n",
    "               \"controversiality_vec\", \"hour_posted_vec\"])"
   ]
  },
  {
   "cell_type": "code",
   "execution_count": 49,
   "metadata": {},
   "outputs": [],
   "source": [
    "#Creating a feature vector with variables of interest\n",
    "vectorAssembler_features = VectorAssembler(\n",
    "    inputCols=[\"gilded\", \"score\", \"post_char_len\",\"account_active_time\",\n",
    "               \"subreddit_type_vec\", \"weekday_vec\",\"can_gild_vec\",\n",
    "               \"collapsed_vec\", \"stickied_vec\", \"send_replies_vec\",\n",
    "               \"controversiality_vec\", \"hour_posted_vec\"],\n",
    "    outputCol='features')"
   ]
  },
  {
   "cell_type": "code",
   "execution_count": 50,
   "metadata": {},
   "outputs": [],
   "source": [
    "#Converting label indexes back into the actual labels\n",
    "labelConverter = IndexToString(inputCol='prediction', outputCol='predictedLabel',\n",
    "                             labels=stringIndexer_label.fit(data).labels)"
   ]
  },
  {
   "cell_type": "code",
   "execution_count": 51,
   "metadata": {},
   "outputs": [],
   "source": [
    "evaluator = BinaryClassificationEvaluator(labelCol='label', \n",
    "                                             rawPredictionCol='prediction',\n",
    "                                             metricName='areaUnderROC')"
   ]
  },
  {
   "cell_type": "markdown",
   "metadata": {},
   "source": [
    "**Logistic Regression**"
   ]
  },
  {
   "cell_type": "code",
   "execution_count": 52,
   "metadata": {},
   "outputs": [],
   "source": [
    "#Defining estimator\n",
    "lr = LogisticRegression(labelCol='label', featuresCol='features')"
   ]
  },
  {
   "cell_type": "code",
   "execution_count": 53,
   "metadata": {},
   "outputs": [],
   "source": [
    "#Building the pipeline\n",
    "pipeline_LR = Pipeline(stages=[stringIndexer_label,\n",
    "                               stringIndexer_subreddit_type,\n",
    "                               stringIndexer_weekday,\n",
    "                               stringIndexer_can_gild,\n",
    "                               stringIndexer_collapsed,\n",
    "                               stringIndexer_stickied,\n",
    "                               stringIndexer_send_replies,\n",
    "                               stringIndexer_controversiality,\n",
    "                               stringIndexer_hour_posted,\n",
    "                               encoder,\n",
    "                               vectorAssembler_features, \n",
    "                               lr, \n",
    "                               labelConverter])"
   ]
  },
  {
   "cell_type": "code",
   "execution_count": 54,
   "metadata": {},
   "outputs": [],
   "source": [
    "#Fitting Logistic Regression model\n",
    "model_LR = pipeline_LR.fit(train_data)"
   ]
  },
  {
   "cell_type": "code",
   "execution_count": 55,
   "metadata": {},
   "outputs": [],
   "source": [
    "#Evaluating the model\n",
    "predictions_LR = model_LR.transform(test_data)"
   ]
  },
  {
   "cell_type": "code",
   "execution_count": 56,
   "metadata": {},
   "outputs": [
    {
     "data": {
      "text/plain": [
       "0.6690379212605336"
      ]
     },
     "execution_count": 56,
     "metadata": {},
     "output_type": "execute_result"
    }
   ],
   "source": [
    "auc_LR = evaluator.evaluate(predictions_LR)\n",
    "auc_LR"
   ]
  },
  {
   "cell_type": "markdown",
   "metadata": {},
   "source": [
    "**Random Forest**"
   ]
  },
  {
   "cell_type": "code",
   "execution_count": 57,
   "metadata": {},
   "outputs": [],
   "source": [
    "#Defining estimator\n",
    "rf = RandomForestClassifier(labelCol=\"label\", featuresCol=\"features\")"
   ]
  },
  {
   "cell_type": "code",
   "execution_count": 58,
   "metadata": {},
   "outputs": [],
   "source": [
    "#Building the pipeline\n",
    "pipeline_rf = Pipeline(stages=[stringIndexer_label,\n",
    "                               stringIndexer_subreddit_type,\n",
    "                               stringIndexer_weekday,\n",
    "                               stringIndexer_can_gild,\n",
    "                               stringIndexer_collapsed,\n",
    "                               stringIndexer_stickied,\n",
    "                               stringIndexer_send_replies,\n",
    "                               stringIndexer_controversiality,\n",
    "                               stringIndexer_hour_posted,\n",
    "                               encoder,\n",
    "                               vectorAssembler_features, \n",
    "                               rf, \n",
    "                               labelConverter])"
   ]
  },
  {
   "cell_type": "code",
   "execution_count": 59,
   "metadata": {},
   "outputs": [],
   "source": [
    "#Fitting the model\n",
    "model_rf = pipeline_rf.fit(train_data)"
   ]
  },
  {
   "cell_type": "code",
   "execution_count": 60,
   "metadata": {},
   "outputs": [],
   "source": [
    "#Evaluating the model\n",
    "predictions_rf = model_rf.transform(test_data)"
   ]
  },
  {
   "cell_type": "code",
   "execution_count": 61,
   "metadata": {},
   "outputs": [
    {
     "data": {
      "text/plain": [
       "0.9233445119812705"
      ]
     },
     "execution_count": 61,
     "metadata": {},
     "output_type": "execute_result"
    }
   ],
   "source": [
    "auc_rf = evaluator.evaluate(predictions_rf)\n",
    "auc_rf"
   ]
  },
  {
   "cell_type": "markdown",
   "metadata": {},
   "source": [
    "**Gradient Boosted Tree**"
   ]
  },
  {
   "cell_type": "code",
   "execution_count": 62,
   "metadata": {},
   "outputs": [],
   "source": [
    "gbt = GBTClassifier(labelCol=\"label\", featuresCol=\"features\", maxIter=15)"
   ]
  },
  {
   "cell_type": "code",
   "execution_count": 63,
   "metadata": {},
   "outputs": [],
   "source": [
    "#Building the pipeline\n",
    "pipeline_gbt = Pipeline(stages=[stringIndexer_label,\n",
    "                               stringIndexer_subreddit_type,\n",
    "                               stringIndexer_weekday,\n",
    "                               stringIndexer_can_gild,\n",
    "                               stringIndexer_collapsed,\n",
    "                               stringIndexer_stickied,\n",
    "                               stringIndexer_send_replies,\n",
    "                               stringIndexer_controversiality,\n",
    "                               stringIndexer_hour_posted,\n",
    "                               encoder,\n",
    "                               vectorAssembler_features, \n",
    "                               gbt, \n",
    "                               labelConverter])"
   ]
  },
  {
   "cell_type": "code",
   "execution_count": 64,
   "metadata": {},
   "outputs": [],
   "source": [
    "#Fitting the model\n",
    "model_gbt = pipeline_gbt.fit(train_data)"
   ]
  },
  {
   "cell_type": "code",
   "execution_count": 65,
   "metadata": {},
   "outputs": [],
   "source": [
    "#Evaluating the model\n",
    "predictions_gbt = model_gbt.transform(test_data)"
   ]
  },
  {
   "cell_type": "code",
   "execution_count": 66,
   "metadata": {},
   "outputs": [
    {
     "data": {
      "text/plain": [
       "0.9374747179379846"
      ]
     },
     "execution_count": 66,
     "metadata": {},
     "output_type": "execute_result"
    }
   ],
   "source": [
    "auc_gbt = evaluator.evaluate(predictions_gbt)\n",
    "auc_gbt"
   ]
  },
  {
   "cell_type": "code",
   "execution_count": null,
   "metadata": {},
   "outputs": [],
   "source": []
  }
 ],
 "metadata": {
  "kernelspec": {
   "display_name": "Python 3",
   "language": "python",
   "name": "python3"
  },
  "language_info": {
   "codemirror_mode": {
    "name": "ipython",
    "version": 3
   },
   "file_extension": ".py",
   "mimetype": "text/x-python",
   "name": "python",
   "nbconvert_exporter": "python",
   "pygments_lexer": "ipython3",
   "version": "3.7.6"
  }
 },
 "nbformat": 4,
 "nbformat_minor": 4
}
